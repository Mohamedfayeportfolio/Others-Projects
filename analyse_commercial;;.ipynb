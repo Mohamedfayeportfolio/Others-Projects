{
 "cells": [
  {
   "cell_type": "code",
   "execution_count": 1,
   "metadata": {
    "id": "IvyYaqa5jz42"
   },
   "outputs": [],
   "source": [
    "# Importation des librairies\n",
    "import pandas as pd\n",
    "import seaborn as sns\n",
    "import matplotlib.pyplot as plt\n"
   ]
  },
  {
   "cell_type": "code",
   "execution_count": 2,
   "metadata": {
    "id": "UAynCh1rkEny"
   },
   "outputs": [],
   "source": [
    "df = pd.read_csv('Sample - Superstore 1.csv', encoding='cp1252', sep=';')"
   ]
  },
  {
   "cell_type": "code",
   "execution_count": 3,
   "metadata": {
    "id": "xJFy1nGZlB9g"
   },
   "outputs": [
    {
     "data": {
      "text/html": [
       "<div>\n",
       "<style scoped>\n",
       "    .dataframe tbody tr th:only-of-type {\n",
       "        vertical-align: middle;\n",
       "    }\n",
       "\n",
       "    .dataframe tbody tr th {\n",
       "        vertical-align: top;\n",
       "    }\n",
       "\n",
       "    .dataframe thead th {\n",
       "        text-align: right;\n",
       "    }\n",
       "</style>\n",
       "<table border=\"1\" class=\"dataframe\">\n",
       "  <thead>\n",
       "    <tr style=\"text-align: right;\">\n",
       "      <th></th>\n",
       "      <th>Row ID</th>\n",
       "      <th>Order ID</th>\n",
       "      <th>Order Date</th>\n",
       "      <th>Ship Date</th>\n",
       "      <th>Ship Mode</th>\n",
       "      <th>Customer ID</th>\n",
       "      <th>Customer Name</th>\n",
       "      <th>Segment</th>\n",
       "      <th>Country</th>\n",
       "      <th>City</th>\n",
       "      <th>...</th>\n",
       "      <th>Postal Code</th>\n",
       "      <th>Region</th>\n",
       "      <th>Product ID</th>\n",
       "      <th>Category</th>\n",
       "      <th>Sub-Category</th>\n",
       "      <th>Product Name</th>\n",
       "      <th>Sales</th>\n",
       "      <th>Quantity</th>\n",
       "      <th>Discount</th>\n",
       "      <th>Profit</th>\n",
       "    </tr>\n",
       "  </thead>\n",
       "  <tbody>\n",
       "    <tr>\n",
       "      <th>0</th>\n",
       "      <td>1</td>\n",
       "      <td>CA-2016-152156</td>\n",
       "      <td>11/08/2016</td>\n",
       "      <td>11/11/2016</td>\n",
       "      <td>Second Class</td>\n",
       "      <td>CG-12520</td>\n",
       "      <td>Claire Gute</td>\n",
       "      <td>Consumer</td>\n",
       "      <td>United States</td>\n",
       "      <td>Henderson</td>\n",
       "      <td>...</td>\n",
       "      <td>42420</td>\n",
       "      <td>South</td>\n",
       "      <td>FUR-BO-10001798</td>\n",
       "      <td>Furniture</td>\n",
       "      <td>Bookcases</td>\n",
       "      <td>Bush Somerset Collection Bookcase</td>\n",
       "      <td>261.960</td>\n",
       "      <td>2.0</td>\n",
       "      <td>0.0</td>\n",
       "      <td>41.9136</td>\n",
       "    </tr>\n",
       "    <tr>\n",
       "      <th>1</th>\n",
       "      <td>2</td>\n",
       "      <td>CA-2016-152156</td>\n",
       "      <td>11/08/2016</td>\n",
       "      <td>11/11/2016</td>\n",
       "      <td>Second Class</td>\n",
       "      <td>CG-12520</td>\n",
       "      <td>Claire Gute</td>\n",
       "      <td>Consumer</td>\n",
       "      <td>United States</td>\n",
       "      <td>Henderson</td>\n",
       "      <td>...</td>\n",
       "      <td>42420</td>\n",
       "      <td>South</td>\n",
       "      <td>FUR-CH-10000454</td>\n",
       "      <td>Furniture</td>\n",
       "      <td>Chairs</td>\n",
       "      <td>Hon Deluxe Fabric Upholstered Stacking Chairs,...</td>\n",
       "      <td>731.940</td>\n",
       "      <td>3.0</td>\n",
       "      <td>0.0</td>\n",
       "      <td>219.5820</td>\n",
       "    </tr>\n",
       "    <tr>\n",
       "      <th>2</th>\n",
       "      <td>14</td>\n",
       "      <td>CA-2016-161389</td>\n",
       "      <td>12/05/2016</td>\n",
       "      <td>12/10/2016</td>\n",
       "      <td>Standard Class</td>\n",
       "      <td>IM-15070</td>\n",
       "      <td>Irene Maddox</td>\n",
       "      <td>Consumer</td>\n",
       "      <td>United States</td>\n",
       "      <td>Seattle</td>\n",
       "      <td>...</td>\n",
       "      <td>98103</td>\n",
       "      <td>West</td>\n",
       "      <td>OFF-BI-10003656</td>\n",
       "      <td>Office Supplies</td>\n",
       "      <td>Binders</td>\n",
       "      <td>Fellowes PB200 Plastic Comb Binding Machine</td>\n",
       "      <td>407.976</td>\n",
       "      <td>3.0</td>\n",
       "      <td>0.2</td>\n",
       "      <td>132.5922</td>\n",
       "    </tr>\n",
       "    <tr>\n",
       "      <th>3</th>\n",
       "      <td>36</td>\n",
       "      <td>CA-2016-117590</td>\n",
       "      <td>12/08/2016</td>\n",
       "      <td>12/10/2016</td>\n",
       "      <td>First Class</td>\n",
       "      <td>GH-14485</td>\n",
       "      <td>Gene Hale</td>\n",
       "      <td>Corporate</td>\n",
       "      <td>United States</td>\n",
       "      <td>Richardson</td>\n",
       "      <td>...</td>\n",
       "      <td>75080</td>\n",
       "      <td>Central</td>\n",
       "      <td>TEC-PH-10004977</td>\n",
       "      <td>Technology</td>\n",
       "      <td>Phones</td>\n",
       "      <td>GE 30524EE4</td>\n",
       "      <td>1097.544</td>\n",
       "      <td>7.0</td>\n",
       "      <td>0.2</td>\n",
       "      <td>123.4737</td>\n",
       "    </tr>\n",
       "    <tr>\n",
       "      <th>4</th>\n",
       "      <td>37</td>\n",
       "      <td>CA-2016-117590</td>\n",
       "      <td>12/08/2016</td>\n",
       "      <td>12/10/2016</td>\n",
       "      <td>First Class</td>\n",
       "      <td>GH-14485</td>\n",
       "      <td>Gene Hale</td>\n",
       "      <td>Corporate</td>\n",
       "      <td>United States</td>\n",
       "      <td>Richardson</td>\n",
       "      <td>...</td>\n",
       "      <td>75080</td>\n",
       "      <td>Central</td>\n",
       "      <td>FUR-FU-10003664</td>\n",
       "      <td>Furniture</td>\n",
       "      <td>Furnishings</td>\n",
       "      <td>Electrix Architect's Clamp-On Swing Arm Lamp, ...</td>\n",
       "      <td>190.920</td>\n",
       "      <td>5.0</td>\n",
       "      <td>0.6</td>\n",
       "      <td>147.9630</td>\n",
       "    </tr>\n",
       "    <tr>\n",
       "      <th>...</th>\n",
       "      <td>...</td>\n",
       "      <td>...</td>\n",
       "      <td>...</td>\n",
       "      <td>...</td>\n",
       "      <td>...</td>\n",
       "      <td>...</td>\n",
       "      <td>...</td>\n",
       "      <td>...</td>\n",
       "      <td>...</td>\n",
       "      <td>...</td>\n",
       "      <td>...</td>\n",
       "      <td>...</td>\n",
       "      <td>...</td>\n",
       "      <td>...</td>\n",
       "      <td>...</td>\n",
       "      <td>...</td>\n",
       "      <td>...</td>\n",
       "      <td>...</td>\n",
       "      <td>...</td>\n",
       "      <td>...</td>\n",
       "      <td>...</td>\n",
       "    </tr>\n",
       "    <tr>\n",
       "      <th>2734</th>\n",
       "      <td>9979</td>\n",
       "      <td>US-2016-103674</td>\n",
       "      <td>12/06/2016</td>\n",
       "      <td>12/10/2016</td>\n",
       "      <td>Standard Class</td>\n",
       "      <td>AP-10720</td>\n",
       "      <td>Anne Pryor</td>\n",
       "      <td>Home Office</td>\n",
       "      <td>United States</td>\n",
       "      <td>Los Angeles</td>\n",
       "      <td>...</td>\n",
       "      <td>90032</td>\n",
       "      <td>West</td>\n",
       "      <td>OFF-BI-10003727</td>\n",
       "      <td>Office Supplies</td>\n",
       "      <td>Binders</td>\n",
       "      <td>Avery Durable Slant Ring Binders With Label Ho...</td>\n",
       "      <td>13.376</td>\n",
       "      <td>4.0</td>\n",
       "      <td>0.2</td>\n",
       "      <td>4.6816</td>\n",
       "    </tr>\n",
       "    <tr>\n",
       "      <th>2735</th>\n",
       "      <td>9980</td>\n",
       "      <td>US-2016-103674</td>\n",
       "      <td>12/06/2016</td>\n",
       "      <td>12/10/2016</td>\n",
       "      <td>Standard Class</td>\n",
       "      <td>AP-10720</td>\n",
       "      <td>Anne Pryor</td>\n",
       "      <td>Home Office</td>\n",
       "      <td>United States</td>\n",
       "      <td>Los Angeles</td>\n",
       "      <td>...</td>\n",
       "      <td>90032</td>\n",
       "      <td>West</td>\n",
       "      <td>OFF-BI-10002026</td>\n",
       "      <td>Office Supplies</td>\n",
       "      <td>Binders</td>\n",
       "      <td>Ibico Recycled Linen-Style Covers</td>\n",
       "      <td>437.472</td>\n",
       "      <td>14.0</td>\n",
       "      <td>0.2</td>\n",
       "      <td>153.1152</td>\n",
       "    </tr>\n",
       "    <tr>\n",
       "      <th>2736</th>\n",
       "      <td>9981</td>\n",
       "      <td>US-2015-151435</td>\n",
       "      <td>09/06/2015</td>\n",
       "      <td>09/09/2015</td>\n",
       "      <td>Second Class</td>\n",
       "      <td>SW-20455</td>\n",
       "      <td>Shaun Weien</td>\n",
       "      <td>Consumer</td>\n",
       "      <td>United States</td>\n",
       "      <td>Lafayette</td>\n",
       "      <td>...</td>\n",
       "      <td>70506</td>\n",
       "      <td>South</td>\n",
       "      <td>FUR-TA-10001039</td>\n",
       "      <td>Furniture</td>\n",
       "      <td>Tables</td>\n",
       "      <td>KI Adjustable-Height Table</td>\n",
       "      <td>85.980</td>\n",
       "      <td>1.0</td>\n",
       "      <td>0.0</td>\n",
       "      <td>22.3548</td>\n",
       "    </tr>\n",
       "    <tr>\n",
       "      <th>2737</th>\n",
       "      <td>9982</td>\n",
       "      <td>CA-2017-163566</td>\n",
       "      <td>08/03/2017</td>\n",
       "      <td>08/06/2017</td>\n",
       "      <td>First Class</td>\n",
       "      <td>TB-21055</td>\n",
       "      <td>Ted Butterfield</td>\n",
       "      <td>Consumer</td>\n",
       "      <td>United States</td>\n",
       "      <td>Fairfield</td>\n",
       "      <td>...</td>\n",
       "      <td>45014</td>\n",
       "      <td>East</td>\n",
       "      <td>OFF-LA-10004484</td>\n",
       "      <td>Office Supplies</td>\n",
       "      <td>Labels</td>\n",
       "      <td>Avery 476</td>\n",
       "      <td>16.520</td>\n",
       "      <td>5.0</td>\n",
       "      <td>0.2</td>\n",
       "      <td>5.3690</td>\n",
       "    </tr>\n",
       "    <tr>\n",
       "      <th>2738</th>\n",
       "      <td>9994</td>\n",
       "      <td>CA-2017-119914</td>\n",
       "      <td>05/04/2017</td>\n",
       "      <td>05/09/2017</td>\n",
       "      <td>Second Class</td>\n",
       "      <td>CC-12220</td>\n",
       "      <td>Chris Cortes</td>\n",
       "      <td>Consumer</td>\n",
       "      <td>United States</td>\n",
       "      <td>Westminster</td>\n",
       "      <td>...</td>\n",
       "      <td>92683</td>\n",
       "      <td>West</td>\n",
       "      <td>OFF-AP-10002684</td>\n",
       "      <td>Office Supplies</td>\n",
       "      <td>Appliances</td>\n",
       "      <td>Acco 7-Outlet Masterpiece Power Center, Wihtou...</td>\n",
       "      <td>243.160</td>\n",
       "      <td>2.0</td>\n",
       "      <td>0.0</td>\n",
       "      <td>72.9480</td>\n",
       "    </tr>\n",
       "  </tbody>\n",
       "</table>\n",
       "<p>2739 rows × 21 columns</p>\n",
       "</div>"
      ],
      "text/plain": [
       "      Row ID        Order ID  Order Date   Ship Date       Ship Mode  \\\n",
       "0          1  CA-2016-152156  11/08/2016  11/11/2016    Second Class   \n",
       "1          2  CA-2016-152156  11/08/2016  11/11/2016    Second Class   \n",
       "2         14  CA-2016-161389  12/05/2016  12/10/2016  Standard Class   \n",
       "3         36  CA-2016-117590  12/08/2016  12/10/2016     First Class   \n",
       "4         37  CA-2016-117590  12/08/2016  12/10/2016     First Class   \n",
       "...      ...             ...         ...         ...             ...   \n",
       "2734    9979  US-2016-103674  12/06/2016  12/10/2016  Standard Class   \n",
       "2735    9980  US-2016-103674  12/06/2016  12/10/2016  Standard Class   \n",
       "2736    9981  US-2015-151435  09/06/2015  09/09/2015    Second Class   \n",
       "2737    9982  CA-2017-163566  08/03/2017  08/06/2017     First Class   \n",
       "2738    9994  CA-2017-119914  05/04/2017  05/09/2017    Second Class   \n",
       "\n",
       "     Customer ID    Customer Name      Segment        Country         City  \\\n",
       "0       CG-12520      Claire Gute     Consumer  United States    Henderson   \n",
       "1       CG-12520      Claire Gute     Consumer  United States    Henderson   \n",
       "2       IM-15070     Irene Maddox     Consumer  United States      Seattle   \n",
       "3       GH-14485        Gene Hale    Corporate  United States   Richardson   \n",
       "4       GH-14485        Gene Hale    Corporate  United States   Richardson   \n",
       "...          ...              ...          ...            ...          ...   \n",
       "2734    AP-10720       Anne Pryor  Home Office  United States  Los Angeles   \n",
       "2735    AP-10720       Anne Pryor  Home Office  United States  Los Angeles   \n",
       "2736    SW-20455      Shaun Weien     Consumer  United States    Lafayette   \n",
       "2737    TB-21055  Ted Butterfield     Consumer  United States    Fairfield   \n",
       "2738    CC-12220     Chris Cortes     Consumer  United States  Westminster   \n",
       "\n",
       "      ... Postal Code   Region       Product ID         Category Sub-Category  \\\n",
       "0     ...       42420    South  FUR-BO-10001798        Furniture    Bookcases   \n",
       "1     ...       42420    South  FUR-CH-10000454        Furniture       Chairs   \n",
       "2     ...       98103     West  OFF-BI-10003656  Office Supplies      Binders   \n",
       "3     ...       75080  Central  TEC-PH-10004977       Technology       Phones   \n",
       "4     ...       75080  Central  FUR-FU-10003664        Furniture  Furnishings   \n",
       "...   ...         ...      ...              ...              ...          ...   \n",
       "2734  ...       90032     West  OFF-BI-10003727  Office Supplies      Binders   \n",
       "2735  ...       90032     West  OFF-BI-10002026  Office Supplies      Binders   \n",
       "2736  ...       70506    South  FUR-TA-10001039        Furniture       Tables   \n",
       "2737  ...       45014     East  OFF-LA-10004484  Office Supplies       Labels   \n",
       "2738  ...       92683     West  OFF-AP-10002684  Office Supplies   Appliances   \n",
       "\n",
       "                                           Product Name     Sales  Quantity  \\\n",
       "0                     Bush Somerset Collection Bookcase   261.960       2.0   \n",
       "1     Hon Deluxe Fabric Upholstered Stacking Chairs,...   731.940       3.0   \n",
       "2           Fellowes PB200 Plastic Comb Binding Machine   407.976       3.0   \n",
       "3                                           GE 30524EE4  1097.544       7.0   \n",
       "4     Electrix Architect's Clamp-On Swing Arm Lamp, ...   190.920       5.0   \n",
       "...                                                 ...       ...       ...   \n",
       "2734  Avery Durable Slant Ring Binders With Label Ho...    13.376       4.0   \n",
       "2735                  Ibico Recycled Linen-Style Covers   437.472      14.0   \n",
       "2736                         KI Adjustable-Height Table    85.980       1.0   \n",
       "2737                                          Avery 476    16.520       5.0   \n",
       "2738  Acco 7-Outlet Masterpiece Power Center, Wihtou...   243.160       2.0   \n",
       "\n",
       "      Discount    Profit  \n",
       "0          0.0   41.9136  \n",
       "1          0.0  219.5820  \n",
       "2          0.2  132.5922  \n",
       "3          0.2  123.4737  \n",
       "4          0.6  147.9630  \n",
       "...        ...       ...  \n",
       "2734       0.2    4.6816  \n",
       "2735       0.2  153.1152  \n",
       "2736       0.0   22.3548  \n",
       "2737       0.2    5.3690  \n",
       "2738       0.0   72.9480  \n",
       "\n",
       "[2739 rows x 21 columns]"
      ]
     },
     "execution_count": 3,
     "metadata": {},
     "output_type": "execute_result"
    }
   ],
   "source": [
    "df"
   ]
  },
  {
   "cell_type": "code",
   "execution_count": 4,
   "metadata": {
    "id": "ty86WuTLl5P2"
   },
   "outputs": [
    {
     "data": {
      "text/html": [
       "<div>\n",
       "<style scoped>\n",
       "    .dataframe tbody tr th:only-of-type {\n",
       "        vertical-align: middle;\n",
       "    }\n",
       "\n",
       "    .dataframe tbody tr th {\n",
       "        vertical-align: top;\n",
       "    }\n",
       "\n",
       "    .dataframe thead th {\n",
       "        text-align: right;\n",
       "    }\n",
       "</style>\n",
       "<table border=\"1\" class=\"dataframe\">\n",
       "  <thead>\n",
       "    <tr style=\"text-align: right;\">\n",
       "      <th></th>\n",
       "      <th>Row ID</th>\n",
       "      <th>Order ID</th>\n",
       "      <th>Order Date</th>\n",
       "      <th>Ship Date</th>\n",
       "      <th>Ship Mode</th>\n",
       "      <th>Customer ID</th>\n",
       "      <th>Customer Name</th>\n",
       "      <th>Segment</th>\n",
       "      <th>Country</th>\n",
       "      <th>City</th>\n",
       "      <th>...</th>\n",
       "      <th>Postal Code</th>\n",
       "      <th>Region</th>\n",
       "      <th>Product ID</th>\n",
       "      <th>Category</th>\n",
       "      <th>Sub-Category</th>\n",
       "      <th>Product Name</th>\n",
       "      <th>Sales</th>\n",
       "      <th>Quantity</th>\n",
       "      <th>Discount</th>\n",
       "      <th>Profit</th>\n",
       "    </tr>\n",
       "  </thead>\n",
       "  <tbody>\n",
       "    <tr>\n",
       "      <th>0</th>\n",
       "      <td>1</td>\n",
       "      <td>CA-2016-152156</td>\n",
       "      <td>11/08/2016</td>\n",
       "      <td>11/11/2016</td>\n",
       "      <td>Second Class</td>\n",
       "      <td>CG-12520</td>\n",
       "      <td>Claire Gute</td>\n",
       "      <td>Consumer</td>\n",
       "      <td>United States</td>\n",
       "      <td>Henderson</td>\n",
       "      <td>...</td>\n",
       "      <td>42420</td>\n",
       "      <td>South</td>\n",
       "      <td>FUR-BO-10001798</td>\n",
       "      <td>Furniture</td>\n",
       "      <td>Bookcases</td>\n",
       "      <td>Bush Somerset Collection Bookcase</td>\n",
       "      <td>261.960</td>\n",
       "      <td>2.0</td>\n",
       "      <td>0.0</td>\n",
       "      <td>41.9136</td>\n",
       "    </tr>\n",
       "    <tr>\n",
       "      <th>1</th>\n",
       "      <td>2</td>\n",
       "      <td>CA-2016-152156</td>\n",
       "      <td>11/08/2016</td>\n",
       "      <td>11/11/2016</td>\n",
       "      <td>Second Class</td>\n",
       "      <td>CG-12520</td>\n",
       "      <td>Claire Gute</td>\n",
       "      <td>Consumer</td>\n",
       "      <td>United States</td>\n",
       "      <td>Henderson</td>\n",
       "      <td>...</td>\n",
       "      <td>42420</td>\n",
       "      <td>South</td>\n",
       "      <td>FUR-CH-10000454</td>\n",
       "      <td>Furniture</td>\n",
       "      <td>Chairs</td>\n",
       "      <td>Hon Deluxe Fabric Upholstered Stacking Chairs,...</td>\n",
       "      <td>731.940</td>\n",
       "      <td>3.0</td>\n",
       "      <td>0.0</td>\n",
       "      <td>219.5820</td>\n",
       "    </tr>\n",
       "    <tr>\n",
       "      <th>2</th>\n",
       "      <td>14</td>\n",
       "      <td>CA-2016-161389</td>\n",
       "      <td>12/05/2016</td>\n",
       "      <td>12/10/2016</td>\n",
       "      <td>Standard Class</td>\n",
       "      <td>IM-15070</td>\n",
       "      <td>Irene Maddox</td>\n",
       "      <td>Consumer</td>\n",
       "      <td>United States</td>\n",
       "      <td>Seattle</td>\n",
       "      <td>...</td>\n",
       "      <td>98103</td>\n",
       "      <td>West</td>\n",
       "      <td>OFF-BI-10003656</td>\n",
       "      <td>Office Supplies</td>\n",
       "      <td>Binders</td>\n",
       "      <td>Fellowes PB200 Plastic Comb Binding Machine</td>\n",
       "      <td>407.976</td>\n",
       "      <td>3.0</td>\n",
       "      <td>0.2</td>\n",
       "      <td>132.5922</td>\n",
       "    </tr>\n",
       "    <tr>\n",
       "      <th>3</th>\n",
       "      <td>36</td>\n",
       "      <td>CA-2016-117590</td>\n",
       "      <td>12/08/2016</td>\n",
       "      <td>12/10/2016</td>\n",
       "      <td>First Class</td>\n",
       "      <td>GH-14485</td>\n",
       "      <td>Gene Hale</td>\n",
       "      <td>Corporate</td>\n",
       "      <td>United States</td>\n",
       "      <td>Richardson</td>\n",
       "      <td>...</td>\n",
       "      <td>75080</td>\n",
       "      <td>Central</td>\n",
       "      <td>TEC-PH-10004977</td>\n",
       "      <td>Technology</td>\n",
       "      <td>Phones</td>\n",
       "      <td>GE 30524EE4</td>\n",
       "      <td>1097.544</td>\n",
       "      <td>7.0</td>\n",
       "      <td>0.2</td>\n",
       "      <td>123.4737</td>\n",
       "    </tr>\n",
       "    <tr>\n",
       "      <th>4</th>\n",
       "      <td>37</td>\n",
       "      <td>CA-2016-117590</td>\n",
       "      <td>12/08/2016</td>\n",
       "      <td>12/10/2016</td>\n",
       "      <td>First Class</td>\n",
       "      <td>GH-14485</td>\n",
       "      <td>Gene Hale</td>\n",
       "      <td>Corporate</td>\n",
       "      <td>United States</td>\n",
       "      <td>Richardson</td>\n",
       "      <td>...</td>\n",
       "      <td>75080</td>\n",
       "      <td>Central</td>\n",
       "      <td>FUR-FU-10003664</td>\n",
       "      <td>Furniture</td>\n",
       "      <td>Furnishings</td>\n",
       "      <td>Electrix Architect's Clamp-On Swing Arm Lamp, ...</td>\n",
       "      <td>190.920</td>\n",
       "      <td>5.0</td>\n",
       "      <td>0.6</td>\n",
       "      <td>147.9630</td>\n",
       "    </tr>\n",
       "  </tbody>\n",
       "</table>\n",
       "<p>5 rows × 21 columns</p>\n",
       "</div>"
      ],
      "text/plain": [
       "   Row ID        Order ID  Order Date   Ship Date       Ship Mode Customer ID  \\\n",
       "0       1  CA-2016-152156  11/08/2016  11/11/2016    Second Class    CG-12520   \n",
       "1       2  CA-2016-152156  11/08/2016  11/11/2016    Second Class    CG-12520   \n",
       "2      14  CA-2016-161389  12/05/2016  12/10/2016  Standard Class    IM-15070   \n",
       "3      36  CA-2016-117590  12/08/2016  12/10/2016     First Class    GH-14485   \n",
       "4      37  CA-2016-117590  12/08/2016  12/10/2016     First Class    GH-14485   \n",
       "\n",
       "  Customer Name    Segment        Country        City  ... Postal Code  \\\n",
       "0   Claire Gute   Consumer  United States   Henderson  ...       42420   \n",
       "1   Claire Gute   Consumer  United States   Henderson  ...       42420   \n",
       "2  Irene Maddox   Consumer  United States     Seattle  ...       98103   \n",
       "3     Gene Hale  Corporate  United States  Richardson  ...       75080   \n",
       "4     Gene Hale  Corporate  United States  Richardson  ...       75080   \n",
       "\n",
       "    Region       Product ID         Category Sub-Category  \\\n",
       "0    South  FUR-BO-10001798        Furniture    Bookcases   \n",
       "1    South  FUR-CH-10000454        Furniture       Chairs   \n",
       "2     West  OFF-BI-10003656  Office Supplies      Binders   \n",
       "3  Central  TEC-PH-10004977       Technology       Phones   \n",
       "4  Central  FUR-FU-10003664        Furniture  Furnishings   \n",
       "\n",
       "                                        Product Name     Sales  Quantity  \\\n",
       "0                  Bush Somerset Collection Bookcase   261.960       2.0   \n",
       "1  Hon Deluxe Fabric Upholstered Stacking Chairs,...   731.940       3.0   \n",
       "2        Fellowes PB200 Plastic Comb Binding Machine   407.976       3.0   \n",
       "3                                        GE 30524EE4  1097.544       7.0   \n",
       "4  Electrix Architect's Clamp-On Swing Arm Lamp, ...   190.920       5.0   \n",
       "\n",
       "   Discount    Profit  \n",
       "0       0.0   41.9136  \n",
       "1       0.0  219.5820  \n",
       "2       0.2  132.5922  \n",
       "3       0.2  123.4737  \n",
       "4       0.6  147.9630  \n",
       "\n",
       "[5 rows x 21 columns]"
      ]
     },
     "execution_count": 4,
     "metadata": {},
     "output_type": "execute_result"
    }
   ],
   "source": [
    "# Affiche les premières lignes du dataset\n",
    "df.head()"
   ]
  },
  {
   "cell_type": "code",
   "execution_count": 5,
   "metadata": {
    "id": "m2iYop3tmDK1"
   },
   "outputs": [
    {
     "name": "stdout",
     "output_type": "stream",
     "text": [
      "<class 'pandas.core.frame.DataFrame'>\n",
      "RangeIndex: 2739 entries, 0 to 2738\n",
      "Data columns (total 21 columns):\n",
      " #   Column         Non-Null Count  Dtype  \n",
      "---  ------         --------------  -----  \n",
      " 0   Row ID         2739 non-null   int64  \n",
      " 1   Order ID       2739 non-null   object \n",
      " 2   Order Date     2739 non-null   object \n",
      " 3   Ship Date      2739 non-null   object \n",
      " 4   Ship Mode      2739 non-null   object \n",
      " 5   Customer ID    2739 non-null   object \n",
      " 6   Customer Name  2739 non-null   object \n",
      " 7   Segment        2739 non-null   object \n",
      " 8   Country        2739 non-null   object \n",
      " 9   City           2739 non-null   object \n",
      " 10  State          2739 non-null   object \n",
      " 11  Postal Code    2739 non-null   int64  \n",
      " 12  Region         2739 non-null   object \n",
      " 13  Product ID     2739 non-null   object \n",
      " 14  Category       2739 non-null   object \n",
      " 15  Sub-Category   2739 non-null   object \n",
      " 16  Product Name   2739 non-null   object \n",
      " 17  Sales          2736 non-null   float64\n",
      " 18  Quantity       2736 non-null   float64\n",
      " 19  Discount       2736 non-null   float64\n",
      " 20  Profit         2736 non-null   float64\n",
      "dtypes: float64(4), int64(2), object(15)\n",
      "memory usage: 449.5+ KB\n"
     ]
    }
   ],
   "source": [
    "# Info générales sur les types de variables\n",
    "df.info()"
   ]
  },
  {
   "cell_type": "code",
   "execution_count": 6,
   "metadata": {
    "id": "9ZaEDooWmGzI"
   },
   "outputs": [
    {
     "data": {
      "text/plain": [
       "Row ID           0\n",
       "Order ID         0\n",
       "Order Date       0\n",
       "Ship Date        0\n",
       "Ship Mode        0\n",
       "Customer ID      0\n",
       "Customer Name    0\n",
       "Segment          0\n",
       "Country          0\n",
       "City             0\n",
       "State            0\n",
       "Postal Code      0\n",
       "Region           0\n",
       "Product ID       0\n",
       "Category         0\n",
       "Sub-Category     0\n",
       "Product Name     0\n",
       "Sales            3\n",
       "Quantity         3\n",
       "Discount         3\n",
       "Profit           3\n",
       "dtype: int64"
      ]
     },
     "execution_count": 6,
     "metadata": {},
     "output_type": "execute_result"
    }
   ],
   "source": [
    "# Vérifie les valeurs manquantes\n",
    "df.isnull().sum()"
   ]
  },
  {
   "cell_type": "code",
   "execution_count": 7,
   "metadata": {
    "id": "TzEeFZZNmNdR"
   },
   "outputs": [],
   "source": [
    "# Suppression des lignes contenant des valeurs nulles\n",
    "df = df.dropna(subset=['Sales', 'Quantity', 'Discount', 'Profit'])"
   ]
  },
  {
   "cell_type": "code",
   "execution_count": 8,
   "metadata": {
    "id": "NVYgFRnimjf8"
   },
   "outputs": [
    {
     "data": {
      "text/plain": [
       "Row ID           0\n",
       "Order ID         0\n",
       "Order Date       0\n",
       "Ship Date        0\n",
       "Ship Mode        0\n",
       "Customer ID      0\n",
       "Customer Name    0\n",
       "Segment          0\n",
       "Country          0\n",
       "City             0\n",
       "State            0\n",
       "Postal Code      0\n",
       "Region           0\n",
       "Product ID       0\n",
       "Category         0\n",
       "Sub-Category     0\n",
       "Product Name     0\n",
       "Sales            0\n",
       "Quantity         0\n",
       "Discount         0\n",
       "Profit           0\n",
       "dtype: int64"
      ]
     },
     "execution_count": 8,
     "metadata": {},
     "output_type": "execute_result"
    }
   ],
   "source": [
    "# Vérification post-nettoyage\n",
    "df.isnull().sum()"
   ]
  },
  {
   "cell_type": "code",
   "execution_count": null,
   "metadata": {
    "id": "qeFI8rAQmkX5"
   },
   "outputs": [],
   "source": []
  },
  {
   "cell_type": "markdown",
   "metadata": {
    "id": "FNzVfK2hmv1P"
   },
   "source": [
    "**Analyse quanti-quanti (corrélations)**\n",
    "\n",
    "On va explorer les corrélations entre :\n",
    "\n",
    "Sales (ventes)\n",
    "\n",
    "Quantity (quantité)\n",
    "\n",
    "Profit (marge)"
   ]
  },
  {
   "cell_type": "code",
   "execution_count": 9,
   "metadata": {
    "id": "dQKGJQiwm1nt"
   },
   "outputs": [],
   "source": [
    "# Sélection des variables quantitatives\n",
    "quanti_vars = ['Sales', 'Quantity', 'Profit']"
   ]
  },
  {
   "cell_type": "code",
   "execution_count": 10,
   "metadata": {
    "id": "UJxhmFHKm4uM"
   },
   "outputs": [],
   "source": [
    "# Matrice de corrélation\n",
    "correlation_matrix = df[quanti_vars].corr()"
   ]
  },
  {
   "cell_type": "code",
   "execution_count": 11,
   "metadata": {
    "id": "ncOyu_w-m7Lr"
   },
   "outputs": [
    {
     "data": {
      "image/png": "[encoded data removed]",
      "text/plain": [
       "<Figure size 640x480 with 2 Axes>"
      ]
     },
     "metadata": {},
     "output_type": "display_data"
    }
   ],
   "source": [
    "# Affichage de la heatmap\n",
    "sns.heatmap(correlation_matrix, annot=True, cmap='coolwarm', fmt=\".2f\")\n",
    "plt.title('Corrélations entre variables quantitatives')\n",
    "plt.show()"
   ]
  },
  {
   "cell_type": "markdown",
   "metadata": {
    "id": "vri_y4hksk9Y"
   },
   "source": [
    "Les ventes ont une forte corrélation positive avec le profit (0.88), indiquant que maximiser les ventes augmente significativement la rentabilité. En revanche, la faible corrélation entre quantité et profit (0.13) suggère que vendre plus d'unités ne garantit pas de meilleures marges. Optimiser les ventes est crucial."
   ]
  },
  {
   "cell_type": "markdown",
   "metadata": {
    "id": "DhXvoB_nsnbX"
   },
   "source": [
    "________________________________________________________________________________"
   ]
  },
  {
   "cell_type": "markdown",
   "metadata": {
    "id": "LVTqxwAanCVo"
   },
   "source": [
    "**Analyse quali-quali (tableaux croisés)**\n",
    "\n",
    "Exemple : relation entre Region et Category"
   ]
  },
  {
   "cell_type": "code",
   "execution_count": 12,
   "metadata": {
    "id": "RrMgsixKnGIN"
   },
   "outputs": [],
   "source": [
    "# Tableau croisé des fréquences\n",
    "cross_tab = pd.crosstab(df['Region'], df['Category'])"
   ]
  },
  {
   "cell_type": "code",
   "execution_count": 13,
   "metadata": {
    "id": "feIZqTh9nIx2"
   },
   "outputs": [
    {
     "data": {
      "text/html": [
       "<div>\n",
       "<style scoped>\n",
       "    .dataframe tbody tr th:only-of-type {\n",
       "        vertical-align: middle;\n",
       "    }\n",
       "\n",
       "    .dataframe tbody tr th {\n",
       "        vertical-align: top;\n",
       "    }\n",
       "\n",
       "    .dataframe thead th {\n",
       "        text-align: right;\n",
       "    }\n",
       "</style>\n",
       "<table border=\"1\" class=\"dataframe\">\n",
       "  <thead>\n",
       "    <tr style=\"text-align: right;\">\n",
       "      <th>Category</th>\n",
       "      <th>Furniture</th>\n",
       "      <th>Office Supplies</th>\n",
       "      <th>Technology</th>\n",
       "    </tr>\n",
       "    <tr>\n",
       "      <th>Region</th>\n",
       "      <th></th>\n",
       "      <th></th>\n",
       "      <th></th>\n",
       "    </tr>\n",
       "  </thead>\n",
       "  <tbody>\n",
       "    <tr>\n",
       "      <th>Central</th>\n",
       "      <td>124</td>\n",
       "      <td>406</td>\n",
       "      <td>117</td>\n",
       "    </tr>\n",
       "    <tr>\n",
       "      <th>East</th>\n",
       "      <td>177</td>\n",
       "      <td>457</td>\n",
       "      <td>160</td>\n",
       "    </tr>\n",
       "    <tr>\n",
       "      <th>South</th>\n",
       "      <td>92</td>\n",
       "      <td>284</td>\n",
       "      <td>88</td>\n",
       "    </tr>\n",
       "    <tr>\n",
       "      <th>West</th>\n",
       "      <td>184</td>\n",
       "      <td>495</td>\n",
       "      <td>152</td>\n",
       "    </tr>\n",
       "  </tbody>\n",
       "</table>\n",
       "</div>"
      ],
      "text/plain": [
       "Category  Furniture  Office Supplies  Technology\n",
       "Region                                          \n",
       "Central         124              406         117\n",
       "East            177              457         160\n",
       "South            92              284          88\n",
       "West            184              495         152"
      ]
     },
     "execution_count": 13,
     "metadata": {},
     "output_type": "execute_result"
    }
   ],
   "source": [
    "# Affichage du tableau\n",
    "cross_tab"
   ]
  },
  {
   "cell_type": "markdown",
   "metadata": {
    "id": "KSBb4WmZsxRX"
   },
   "source": [
    "## Interprétation des Profits par Catégorie et Région\n",
    "\n",
    "- **Dominance des Meubles** : La région **West** génère le profit le plus élevé dans la catégorie **Furniture** (184), soulignant une forte demande.\n",
    "- **Forte Performance des Fournitures de Bureau** : La catégorie **Office Supplies** est également performante, notamment dans les régions **Central** (406) et **East** (457).\n",
    "- **Opportunités à Explorer** : Les catégories **Technology** et **South** montrent un potentiel de croissance, nécessitant des stratégies ciblées pour améliorer les ventes."
   ]
  },
  {
   "cell_type": "code",
   "execution_count": 14,
   "metadata": {
    "id": "lYPt5iADnLao"
   },
   "outputs": [
    {
     "data": {
      "image/png": "[encoded data removed]",
      "text/plain": [
       "<Figure size 640x480 with 2 Axes>"
      ]
     },
     "metadata": {},
     "output_type": "display_data"
    }
   ],
   "source": [
    "# Heatmap pour visualiser\n",
    "sns.heatmap(cross_tab, annot=True, cmap='YlGnBu', fmt='d')\n",
    "plt.title('Fréquences: Région vs Catégorie')\n",
    "plt.show()"
   ]
  },
  {
   "cell_type": "markdown",
   "metadata": {
    "id": "YnoZ9j_JthIT"
   },
   "source": [
    "Central : Montre des profits variés avec 124 (Meubles), 406 (Fournitures de Bureau), et 117 (Technologie), suggérant une diversité de produits.\n",
    "\n",
    "South : Les profits sont les plus bas dans cette région, avec 92 (Meubles), 284 (Fournitures de Bureau), et 88 (Technologie), nécessitant des stratégies d'amélioration.\n",
    "\n",
    "West : En plus des Meubles, cette région maintient un bon niveau de performance dans les autres catégories, ce qui en fait un marché clé.\n",
    "\n",
    "**Conclusion**\n",
    "Les résultats indiquent que certaines régions et catégories sont plus rentables que d'autres. Il est crucial de concentrer les efforts de marketing et de vente sur les catégories performantes tout en explorant des stratégies pour améliorer les ventes dans les régions moins rentables."
   ]
  },
  {
   "cell_type": "markdown",
   "metadata": {
    "id": "1-MqF8qMnUno"
   },
   "source": [
    "**Analyse quali-quanti (comparaison de moyennes)**\n",
    "\n",
    "Exemple : moyenne des profits selon les segments de clients"
   ]
  },
  {
   "cell_type": "code",
   "execution_count": 15,
   "metadata": {
    "id": "YLvWaZ0BnXMN"
   },
   "outputs": [],
   "source": [
    "# Moyenne de profit par segment\n",
    "mean_profit_segment = df.groupby('Segment')['Profit'].mean().reset_index()"
   ]
  },
  {
   "cell_type": "code",
   "execution_count": 16,
   "metadata": {
    "id": "_fm3HUt0nayZ"
   },
   "outputs": [
    {
     "data": {
      "text/html": [
       "<div>\n",
       "<style scoped>\n",
       "    .dataframe tbody tr th:only-of-type {\n",
       "        vertical-align: middle;\n",
       "    }\n",
       "\n",
       "    .dataframe tbody tr th {\n",
       "        vertical-align: top;\n",
       "    }\n",
       "\n",
       "    .dataframe thead th {\n",
       "        text-align: right;\n",
       "    }\n",
       "</style>\n",
       "<table border=\"1\" class=\"dataframe\">\n",
       "  <thead>\n",
       "    <tr style=\"text-align: right;\">\n",
       "      <th></th>\n",
       "      <th>Segment</th>\n",
       "      <th>Profit</th>\n",
       "    </tr>\n",
       "  </thead>\n",
       "  <tbody>\n",
       "    <tr>\n",
       "      <th>0</th>\n",
       "      <td>Consumer</td>\n",
       "      <td>55.831424</td>\n",
       "    </tr>\n",
       "    <tr>\n",
       "      <th>1</th>\n",
       "      <td>Corporate</td>\n",
       "      <td>68.623992</td>\n",
       "    </tr>\n",
       "    <tr>\n",
       "      <th>2</th>\n",
       "      <td>Home Office</td>\n",
       "      <td>68.725592</td>\n",
       "    </tr>\n",
       "  </tbody>\n",
       "</table>\n",
       "</div>"
      ],
      "text/plain": [
       "       Segment     Profit\n",
       "0     Consumer  55.831424\n",
       "1    Corporate  68.623992\n",
       "2  Home Office  68.725592"
      ]
     },
     "execution_count": 16,
     "metadata": {},
     "output_type": "execute_result"
    }
   ],
   "source": [
    "# Affichage\n",
    "mean_profit_segment"
   ]
  },
  {
   "cell_type": "code",
   "execution_count": 17,
   "metadata": {
    "id": "ZovByTRkneE-"
   },
   "outputs": [
    {
     "data": {
      "image/png": "[encoded data removed]",
      "text/plain": [
       "<Figure size 640x480 with 1 Axes>"
      ]
     },
     "metadata": {},
     "output_type": "display_data"
    }
   ],
   "source": [
    "# Boxplot pour visualiser la dispersion\n",
    "sns.boxplot(x='Segment', y='Profit', data=df)\n",
    "plt.title('Profit par Segment')\n",
    "plt.show()"
   ]
  },
  {
   "cell_type": "markdown",
   "metadata": {
    "id": "wsX-B7BeuEtz"
   },
   "source": [
    "# Interprétation des Profits par Segment\n",
    "\n",
    "## Analyse des Profits\n",
    "- **Segments de Marché** : Les segments analysés incluent **Consumer**, **Corporate**, et **Home Office**.\n",
    "- **Tendances de Profit** :\n",
    "- Le segment **Consumer** montre une performance notable, atteignant des profits proches de 8000, ce qui indique une forte demande dans ce marché.\n",
    "- Le segment **Corporate** semble également performant, bien que les données spécifiques ne soient pas fournies, il est raisonnable de supposer qu'il suit une tendance similaire.\n",
    "- Le segment **Home Office** a des profits significativement plus bas, suggérant une opportunité d'amélioration ou un besoin d'adaptation des stratégies marketing pour capter ce marché.\n",
    "\n",
    "## Conclusion\n",
    "- Les résultats indiquent que le segment **Consumer** est le plus rentable, tandis que les autres segments, bien qu'importants, nécessitent des stratégies ciblées pour maximiser leur potentiel. L'accent devrait être mis sur l'augmentation des ventes dans le segment **Home Office** pour équilibrer les performances globales."
   ]
  },
  {
   "cell_type": "markdown",
   "metadata": {
    "id": "t6Ba_UVcnmP5"
   },
   "source": [
    "**Visualisation avancée**\n",
    "\n",
    "Scatter plot : Ventes vs Profit, coloré par Région"
   ]
  },
  {
   "cell_type": "code",
   "execution_count": 18,
   "metadata": {
    "id": "KjEvcZxGnn_4"
   },
   "outputs": [
    {
     "data": {
      "image/png": "[encoded data removed]",
      "text/plain": [
       "<Figure size 640x480 with 1 Axes>"
      ]
     },
     "metadata": {},
     "output_type": "display_data"
    }
   ],
   "source": [
    "sns.scatterplot(x='Sales', y='Profit', hue='Region', data=df)\n",
    "plt.title('Sales vs Profit par Région')\n",
    "plt.show()"
   ]
  },
  {
   "cell_type": "markdown",
   "metadata": {
    "id": "6XTtAQJDuiz0"
   },
   "source": [
    "Voici une version plus courte de l'interprétation :\n",
    "\n",
    "# Interprétation des Ventes et Profits par Région\n",
    "\n",
    "## Analyse des Données\n",
    "- **Graphique** : Comparaison des ventes et profits pour les régions **South**, **West**, **Central**, et **East**.\n",
    "\n",
    "## Tendances Observées\n",
    "- **Région South** : Ventes et profits faibles, indiquant des défis ou une faible demande.\n",
    "- **Région West** : Ventes et profits élevés, suggérant une forte performance commerciale.\n",
    "- **Région Central** : Ventes modérées avec des profits raisonnables, indiquant une gestion efficace.\n",
    "- **Région East** : Ventes les plus élevées, mais à vérifier si les profits sont également satisfaisants.\n",
    "\n",
    "## Conclusion\n",
    "- Disparités significatives entre les régions. Une analyse approfondie est nécessaire pour optimiser les stratégies, en se concentrant sur l'amélioration des performances dans la région **South**."
   ]
  },
  {
   "cell_type": "code",
   "execution_count": 19,
   "metadata": {
    "id": "zIy85j2snqQy"
   },
   "outputs": [
    {
     "data": {
      "image/png": "[encoded data removed]",
      "text/plain": [
       "<Figure size 640x480 with 1 Axes>"
      ]
     },
     "metadata": {},
     "output_type": "display_data"
    }
   ],
   "source": [
    "sns.boxplot(x='Category', y='Profit', data=df)\n",
    "plt.title('Profit par Catégorie')\n",
    "plt.show()"
   ]
  },
  {
   "cell_type": "markdown",
   "metadata": {
    "id": "omIQlUpivDon"
   },
   "source": [
    "Voici une version plus courte de l'interprétation :\n",
    "\n",
    "# Interprétation des Profits par Catégorie\n",
    "\n",
    "## Analyse des Données\n",
    "- **Graphique** : Profits par catégorie : **Furniture**, **Office Supplies**, et **Technology**.\n",
    "\n",
    "## Tendances Observées\n",
    "- **Furniture** : Profits élevés, indiquant une forte demande.\n",
    "- **Office Supplies** : Profits modérés, suggérant une concurrence accrue.\n",
    "- **Technology** : Profits inférieurs à ceux de Furniture, possiblement dus à des coûts élevés ou à une demande variable.\n",
    "\n",
    "## Conclusion\n",
    "- Des différences significatives existent entre les catégories. Une analyse approfondie est nécessaire pour optimiser les stratégies, surtout dans la catégorie **Technology**."
   ]
  },
  {
   "cell_type": "markdown",
   "metadata": {
    "id": "a2e1mC23oQ7E"
   },
   "source": [
    "***Analyse croisée multi-dimensionnelle***\n",
    "\n",
    "**Objectif** :   \n",
    "Croiser plusieurs variables pour trouver des insights plus fins et segmenter la performance commerciale."
   ]
  },
  {
   "cell_type": "markdown",
   "metadata": {
    "id": "jfht4m87oiW2"
   },
   "source": [
    "**Profit moyen par Région et** **Catégorie**"
   ]
  },
  {
   "cell_type": "code",
   "execution_count": 20,
   "metadata": {
    "id": "joI-W9ojoT7h"
   },
   "outputs": [],
   "source": [
    "# Groupement par Région et Catégorie\n",
    "profit_region_category = df.groupby(['Region', 'Category'])['Profit'].mean().reset_index()"
   ]
  },
  {
   "cell_type": "code",
   "execution_count": 21,
   "metadata": {
    "id": "iU1nQPTCooLA"
   },
   "outputs": [
    {
     "data": {
      "text/html": [
       "<div>\n",
       "<style scoped>\n",
       "    .dataframe tbody tr th:only-of-type {\n",
       "        vertical-align: middle;\n",
       "    }\n",
       "\n",
       "    .dataframe tbody tr th {\n",
       "        vertical-align: top;\n",
       "    }\n",
       "\n",
       "    .dataframe thead th {\n",
       "        text-align: right;\n",
       "    }\n",
       "</style>\n",
       "<table border=\"1\" class=\"dataframe\">\n",
       "  <thead>\n",
       "    <tr style=\"text-align: right;\">\n",
       "      <th></th>\n",
       "      <th>Region</th>\n",
       "      <th>Category</th>\n",
       "      <th>Profit</th>\n",
       "    </tr>\n",
       "  </thead>\n",
       "  <tbody>\n",
       "    <tr>\n",
       "      <th>0</th>\n",
       "      <td>Central</td>\n",
       "      <td>Furniture</td>\n",
       "      <td>95.297682</td>\n",
       "    </tr>\n",
       "    <tr>\n",
       "      <th>1</th>\n",
       "      <td>Central</td>\n",
       "      <td>Office Supplies</td>\n",
       "      <td>43.323170</td>\n",
       "    </tr>\n",
       "    <tr>\n",
       "      <th>2</th>\n",
       "      <td>Central</td>\n",
       "      <td>Technology</td>\n",
       "      <td>155.087172</td>\n",
       "    </tr>\n",
       "    <tr>\n",
       "      <th>3</th>\n",
       "      <td>East</td>\n",
       "      <td>Furniture</td>\n",
       "      <td>61.453756</td>\n",
       "    </tr>\n",
       "    <tr>\n",
       "      <th>4</th>\n",
       "      <td>East</td>\n",
       "      <td>Office Supplies</td>\n",
       "      <td>35.070476</td>\n",
       "    </tr>\n",
       "    <tr>\n",
       "      <th>5</th>\n",
       "      <td>East</td>\n",
       "      <td>Technology</td>\n",
       "      <td>156.135209</td>\n",
       "    </tr>\n",
       "    <tr>\n",
       "      <th>6</th>\n",
       "      <td>South</td>\n",
       "      <td>Furniture</td>\n",
       "      <td>81.813004</td>\n",
       "    </tr>\n",
       "    <tr>\n",
       "      <th>7</th>\n",
       "      <td>South</td>\n",
       "      <td>Office Supplies</td>\n",
       "      <td>36.988977</td>\n",
       "    </tr>\n",
       "    <tr>\n",
       "      <th>8</th>\n",
       "      <td>South</td>\n",
       "      <td>Technology</td>\n",
       "      <td>149.681119</td>\n",
       "    </tr>\n",
       "    <tr>\n",
       "      <th>9</th>\n",
       "      <td>West</td>\n",
       "      <td>Furniture</td>\n",
       "      <td>51.215065</td>\n",
       "    </tr>\n",
       "    <tr>\n",
       "      <th>10</th>\n",
       "      <td>West</td>\n",
       "      <td>Office Supplies</td>\n",
       "      <td>28.825204</td>\n",
       "    </tr>\n",
       "    <tr>\n",
       "      <th>11</th>\n",
       "      <td>West</td>\n",
       "      <td>Technology</td>\n",
       "      <td>101.475845</td>\n",
       "    </tr>\n",
       "  </tbody>\n",
       "</table>\n",
       "</div>"
      ],
      "text/plain": [
       "     Region         Category      Profit\n",
       "0   Central        Furniture   95.297682\n",
       "1   Central  Office Supplies   43.323170\n",
       "2   Central       Technology  155.087172\n",
       "3      East        Furniture   61.453756\n",
       "4      East  Office Supplies   35.070476\n",
       "5      East       Technology  156.135209\n",
       "6     South        Furniture   81.813004\n",
       "7     South  Office Supplies   36.988977\n",
       "8     South       Technology  149.681119\n",
       "9      West        Furniture   51.215065\n",
       "10     West  Office Supplies   28.825204\n",
       "11     West       Technology  101.475845"
      ]
     },
     "execution_count": 21,
     "metadata": {},
     "output_type": "execute_result"
    }
   ],
   "source": [
    "# Affichage\n",
    "profit_region_category"
   ]
  },
  {
   "cell_type": "code",
   "execution_count": 22,
   "metadata": {
    "id": "1L18TuBWoqcg"
   },
   "outputs": [
    {
     "data": {
      "image/png": "[encoded data removed]",
      "text/plain": [
       "<Figure size 640x480 with 2 Axes>"
      ]
     },
     "metadata": {},
     "output_type": "display_data"
    }
   ],
   "source": [
    "# Visualisation en heatmap pivotée\n",
    "pivot_profit = profit_region_category.pivot(index='Region', columns='Category', values='Profit')\n",
    "\n",
    "# Affichage en heatmap\n",
    "sns.heatmap(pivot_profit, annot=True, cmap='RdYlGn', fmt=\".2f\")\n",
    "plt.title('Profit moyen par Région et Catégorie')\n",
    "plt.show()\n"
   ]
  },
  {
   "cell_type": "markdown",
   "metadata": {
    "id": "4mHJyIq7vT6c"
   },
   "source": [
    "# Interprétation des Profits Moyens par Région et Catégorie\n",
    "\n",
    "Ce graphique présente les profits moyens par région (Central, East, South, West) et par catégorie (Furniture, Office Supplies, Technology).\n",
    "\n",
    "- **Central** : Meilleure performance avec des profits élevés, notamment en Furniture.\n",
    "- **East** : Profits variés, mais une bonne performance en Technology.\n",
    "- **South** : Profits modérés, surtout en Furniture.\n",
    "- **West** : Profits les plus bas, nécessitant une attention particulière.\n",
    "\n",
    "Les différences soulignent la nécessité d'adapter les stratégies selon les régions et les catégories pour maximiser les profits."
   ]
  },
  {
   "cell_type": "code",
   "execution_count": 23,
   "metadata": {
    "id": "z_tnVGlHovXc"
   },
   "outputs": [
    {
     "data": {
      "text/html": [
       "<div>\n",
       "<style scoped>\n",
       "    .dataframe tbody tr th:only-of-type {\n",
       "        vertical-align: middle;\n",
       "    }\n",
       "\n",
       "    .dataframe tbody tr th {\n",
       "        vertical-align: top;\n",
       "    }\n",
       "\n",
       "    .dataframe thead th {\n",
       "        text-align: right;\n",
       "    }\n",
       "</style>\n",
       "<table border=\"1\" class=\"dataframe\">\n",
       "  <thead>\n",
       "    <tr style=\"text-align: right;\">\n",
       "      <th></th>\n",
       "      <th>Product Name</th>\n",
       "      <th>Profit</th>\n",
       "    </tr>\n",
       "  </thead>\n",
       "  <tbody>\n",
       "    <tr>\n",
       "      <th>316</th>\n",
       "      <td>Canon imageCLASS 2200 Advanced Copier</td>\n",
       "      <td>8399.9760</td>\n",
       "    </tr>\n",
       "    <tr>\n",
       "      <th>377</th>\n",
       "      <td>Cubify CubeX 3D Printer Triple Head Print</td>\n",
       "      <td>3839.9904</td>\n",
       "    </tr>\n",
       "    <tr>\n",
       "      <th>526</th>\n",
       "      <td>GBC DocuBind P400 Electric Binding System</td>\n",
       "      <td>3266.3760</td>\n",
       "    </tr>\n",
       "    <tr>\n",
       "      <th>623</th>\n",
       "      <td>Hewlett Packard LaserJet 3310 Copier</td>\n",
       "      <td>3167.9472</td>\n",
       "    </tr>\n",
       "    <tr>\n",
       "      <th>609</th>\n",
       "      <td>HP Designjet T520 Inkjet Large Format Printer ...</td>\n",
       "      <td>2799.9840</td>\n",
       "    </tr>\n",
       "    <tr>\n",
       "      <th>528</th>\n",
       "      <td>GBC DocuBind TL300 Electric Binding System</td>\n",
       "      <td>2717.8797</td>\n",
       "    </tr>\n",
       "    <tr>\n",
       "      <th>127</th>\n",
       "      <td>Ativa V4110MDD Micro-Cut Shredder</td>\n",
       "      <td>2400.9657</td>\n",
       "    </tr>\n",
       "    <tr>\n",
       "      <th>530</th>\n",
       "      <td>GBC Ibimaster 500 Manual ProClick Binding System</td>\n",
       "      <td>2282.9400</td>\n",
       "    </tr>\n",
       "    <tr>\n",
       "      <th>664</th>\n",
       "      <td>Honeywell Enviracaire Portable HEPA Air Cleane...</td>\n",
       "      <td>2281.9335</td>\n",
       "    </tr>\n",
       "    <tr>\n",
       "      <th>314</th>\n",
       "      <td>Canon PC1060 Personal Laser Copier</td>\n",
       "      <td>2267.9676</td>\n",
       "    </tr>\n",
       "  </tbody>\n",
       "</table>\n",
       "</div>"
      ],
      "text/plain": [
       "                                          Product Name     Profit\n",
       "316              Canon imageCLASS 2200 Advanced Copier  8399.9760\n",
       "377          Cubify CubeX 3D Printer Triple Head Print  3839.9904\n",
       "526          GBC DocuBind P400 Electric Binding System  3266.3760\n",
       "623               Hewlett Packard LaserJet 3310 Copier  3167.9472\n",
       "609  HP Designjet T520 Inkjet Large Format Printer ...  2799.9840\n",
       "528         GBC DocuBind TL300 Electric Binding System  2717.8797\n",
       "127                  Ativa V4110MDD Micro-Cut Shredder  2400.9657\n",
       "530   GBC Ibimaster 500 Manual ProClick Binding System  2282.9400\n",
       "664  Honeywell Enviracaire Portable HEPA Air Cleane...  2281.9335\n",
       "314                 Canon PC1060 Personal Laser Copier  2267.9676"
      ]
     },
     "execution_count": 23,
     "metadata": {},
     "output_type": "execute_result"
    }
   ],
   "source": [
    "# Somme du profit par produit\n",
    "product_profit = df.groupby('Product Name')['Profit'].sum().reset_index()\n",
    "\n",
    "# Tri décroissant\n",
    "top_products = product_profit.sort_values(by='Profit', ascending=False).head(10)\n",
    "\n",
    "# Affichage\n",
    "top_products"
   ]
  },
  {
   "cell_type": "code",
   "execution_count": 24,
   "metadata": {
    "id": "-US69-HApHxh"
   },
   "outputs": [
    {
     "name": "stderr",
     "output_type": "stream",
     "text": [
      "C:\\Users\\Mohamed Hardin Faye\\AppData\\Local\\Temp\\ipykernel_9540\\3394585451.py:2: FutureWarning: \n",
      "\n",
      "Passing `palette` without assigning `hue` is deprecated and will be removed in v0.14.0. Assign the `y` variable to `hue` and set `legend=False` for the same effect.\n",
      "\n",
      "  sns.barplot(x='Profit', y='Product Name', data=top_products, palette='viridis')\n"
     ]
    },
    {
     "data": {
      "image/png": "[encoded data removed]",
      "text/plain": [
       "<Figure size 640x480 with 1 Axes>"
      ]
     },
     "metadata": {},
     "output_type": "display_data"
    }
   ],
   "source": [
    "# Barplot\n",
    "sns.barplot(x='Profit', y='Product Name', data=top_products, palette='viridis')\n",
    "plt.title('Top 10 Produits par Profit')\n",
    "plt.show()"
   ]
  },
  {
   "cell_type": "markdown",
   "metadata": {
    "id": "_BL25aXGvi1X"
   },
   "source": [
    "# Top 10 Produits par Profit\n",
    "\n",
    "Ce graphique présente les dix produits les plus rentables. Parmi ceux-ci, on trouve des équipements variés tels que le **Canon imageCLASS 2200** et le **Cubify CubeX 3D Printer**, avec des profits atteignant jusqu'à 8000.\n",
    "\n",
    "Les produits de bureau, comme le **GBC DocuBind P400** et le **Hewlett Packard Laserjet 3310**, montrent également des performances solides.\n",
    "\n",
    "Cette analyse souligne l'importance de ces produits pour la rentabilité globale, indiquant des opportunités pour maximiser les ventes dans ces catégories."
   ]
  },
  {
   "cell_type": "markdown",
   "metadata": {
    "id": "pswQ6wV9pW_G"
   },
   "source": [
    "** Analyse du discount sur la rentabilité**\n",
    "\n",
    "Hypothèse : Trop de discount = baisse du profit."
   ]
  },
  {
   "cell_type": "code",
   "execution_count": 25,
   "metadata": {
    "id": "_sIMArEHpY1q"
   },
   "outputs": [
    {
     "data": {
      "image/png": "[encoded data removed]",
      "text/plain": [
       "<Figure size 640x480 with 1 Axes>"
      ]
     },
     "metadata": {},
     "output_type": "display_data"
    },
    {
     "data": {
      "text/html": [
       "<div>\n",
       "<style scoped>\n",
       "    .dataframe tbody tr th:only-of-type {\n",
       "        vertical-align: middle;\n",
       "    }\n",
       "\n",
       "    .dataframe tbody tr th {\n",
       "        vertical-align: top;\n",
       "    }\n",
       "\n",
       "    .dataframe thead th {\n",
       "        text-align: right;\n",
       "    }\n",
       "</style>\n",
       "<table border=\"1\" class=\"dataframe\">\n",
       "  <thead>\n",
       "    <tr style=\"text-align: right;\">\n",
       "      <th></th>\n",
       "      <th>Discount</th>\n",
       "      <th>Profit</th>\n",
       "    </tr>\n",
       "  </thead>\n",
       "  <tbody>\n",
       "    <tr>\n",
       "      <th>Discount</th>\n",
       "      <td>1.000000</td>\n",
       "      <td>0.014657</td>\n",
       "    </tr>\n",
       "    <tr>\n",
       "      <th>Profit</th>\n",
       "      <td>0.014657</td>\n",
       "      <td>1.000000</td>\n",
       "    </tr>\n",
       "  </tbody>\n",
       "</table>\n",
       "</div>"
      ],
      "text/plain": [
       "          Discount    Profit\n",
       "Discount  1.000000  0.014657\n",
       "Profit    0.014657  1.000000"
      ]
     },
     "execution_count": 25,
     "metadata": {},
     "output_type": "execute_result"
    }
   ],
   "source": [
    "# Scatter plot Discount vs Profit\n",
    "sns.scatterplot(x='Discount', y='Profit', data=df)\n",
    "plt.title('Impact du Discount sur le Profit')\n",
    "plt.show()\n",
    "\n",
    "# Corrélation discount/profit\n",
    "discount_corr = df[['Discount', 'Profit']].corr()\n",
    "discount_corr\n"
   ]
  },
  {
   "cell_type": "markdown",
   "metadata": {
    "id": "gYgo2H-wv_7o"
   },
   "source": [
    "# Impact du Discount sur le Profit\n",
    "\n",
    "Ce graphique illustre la relation entre le taux de réduction et le profit généré. À mesure que le discount augmente, le profit diminue, indiquant une tendance négative.\n",
    "\n",
    "Les profits passent de 8000 à 0 en fonction de l'augmentation du discount, suggérant que des réductions excessives peuvent nuire à la rentabilité.\n",
    "\n",
    "Il est essentiel de trouver un équilibre entre offrir des réductions attractives et maintenir des marges bénéficiaires saines pour optimiser les résultats financiers."
   ]
  },
  {
   "cell_type": "markdown",
   "metadata": {
    "id": "a_YhyN3hpqL3"
   },
   "source": [
    "**Détection de pertes** : Produits/régions non rentables"
   ]
  },
  {
   "cell_type": "code",
   "execution_count": 26,
   "metadata": {
    "id": "UERErlySplJ6"
   },
   "outputs": [
    {
     "data": {
      "image/png": "[encoded data removed]",
      "text/plain": [
       "<Figure size 640x480 with 1 Axes>"
      ]
     },
     "metadata": {},
     "output_type": "display_data"
    }
   ],
   "source": [
    "# Filtrer les ventes avec profit négatif\n",
    "losses = df[df['Profit'] < 0]\n",
    "\n",
    "# Regrouper par région et produit\n",
    "losses_grouped = losses.groupby(['Region', 'Product Name'])['Profit'].sum().reset_index()\n",
    "\n",
    "# Tri des pertes les plus importantes\n",
    "top_losses = losses_grouped.sort_values(by='Profit').head(10)\n",
    "\n",
    "# Affichage\n",
    "top_losses\n",
    "\n",
    "# Visualisation\n",
    "sns.barplot(x='Profit', y='Product Name', data=top_losses, palette='Reds_r')\n",
    "plt.title('Top 10 Produits les Moins Rentables par Région')\n",
    "plt.show()\n"
   ]
  },
  {
   "cell_type": "code",
   "execution_count": null,
   "metadata": {
    "id": "SkFA-Ad1pweS"
   },
   "outputs": [],
   "source": []
  },
  {
   "cell_type": "markdown",
   "metadata": {
    "id": "xwNEHLR-qChu"
   },
   "source": [
    "Modélisation prédictive pour anticiper le profit\n",
    "\n",
    "**Objectif **:\n",
    "\n",
    "Prédire le Profit à partir de variables comme :\n",
    "\n",
    "Sales\n",
    "\n",
    "Quantity\n",
    "\n",
    "Discount\n",
    "\n",
    "Category, Region, etc. (quali → à encoder)\n"
   ]
  },
  {
   "cell_type": "code",
   "execution_count": 27,
   "metadata": {
    "id": "xskRPmxiqErF"
   },
   "outputs": [],
   "source": [
    "from sklearn.model_selection import train_test_split\n",
    "from sklearn.linear_model import LinearRegression\n",
    "from sklearn.metrics import mean_absolute_error, r2_score\n",
    "from sklearn.preprocessing import OneHotEncoder\n",
    "\n",
    "# Sélection des variables utiles\n",
    "features = df[['Sales', 'Quantity', 'Discount', 'Category', 'Region']]\n",
    "target = df['Profit']\n",
    "\n",
    "# Encodage des variables qualitatives\n",
    "features_encoded = pd.get_dummies(features, columns=['Category', 'Region'], drop_first=True)\n",
    "\n",
    "# Split en train/test\n",
    "X_train, X_test, y_train, y_test = train_test_split(features_encoded, target, test_size=0.2, random_state=42)\n"
   ]
  },
  {
   "cell_type": "code",
   "execution_count": 28,
   "metadata": {
    "id": "uacWS-6gqNmZ"
   },
   "outputs": [
    {
     "data": {
      "text/html": [
       "<div>\n",
       "<style scoped>\n",
       "    .dataframe tbody tr th:only-of-type {\n",
       "        vertical-align: middle;\n",
       "    }\n",
       "\n",
       "    .dataframe tbody tr th {\n",
       "        vertical-align: top;\n",
       "    }\n",
       "\n",
       "    .dataframe thead th {\n",
       "        text-align: right;\n",
       "    }\n",
       "</style>\n",
       "<table border=\"1\" class=\"dataframe\">\n",
       "  <thead>\n",
       "    <tr style=\"text-align: right;\">\n",
       "      <th></th>\n",
       "      <th>MAE</th>\n",
       "      <th>R2_Score</th>\n",
       "    </tr>\n",
       "  </thead>\n",
       "  <tbody>\n",
       "    <tr>\n",
       "      <th>0</th>\n",
       "      <td>41.546489</td>\n",
       "      <td>0.795544</td>\n",
       "    </tr>\n",
       "  </tbody>\n",
       "</table>\n",
       "</div>"
      ],
      "text/plain": [
       "         MAE  R2_Score\n",
       "0  41.546489  0.795544"
      ]
     },
     "execution_count": 28,
     "metadata": {},
     "output_type": "execute_result"
    }
   ],
   "source": [
    "# Modèle\n",
    "model = LinearRegression()\n",
    "model.fit(X_train, y_train)\n",
    "\n",
    "# Prédictions\n",
    "y_pred = model.predict(X_test)\n",
    "\n",
    "# Évaluation du modèle\n",
    "mae = mean_absolute_error(y_test, y_pred)\n",
    "r2 = r2_score(y_test, y_pred)\n",
    "\n",
    "# Résultats d’évaluation\n",
    "df_results = pd.DataFrame({'MAE': [mae], 'R2_Score': [r2]})\n",
    "df_results\n"
   ]
  },
  {
   "cell_type": "code",
   "execution_count": 29,
   "metadata": {
    "id": "WxVmWZBUqQn0"
   },
   "outputs": [
    {
     "data": {
      "text/html": [
       "<div>\n",
       "<style scoped>\n",
       "    .dataframe tbody tr th:only-of-type {\n",
       "        vertical-align: middle;\n",
       "    }\n",
       "\n",
       "    .dataframe tbody tr th {\n",
       "        vertical-align: top;\n",
       "    }\n",
       "\n",
       "    .dataframe thead th {\n",
       "        text-align: right;\n",
       "    }\n",
       "</style>\n",
       "<table border=\"1\" class=\"dataframe\">\n",
       "  <thead>\n",
       "    <tr style=\"text-align: right;\">\n",
       "      <th></th>\n",
       "      <th>Variable</th>\n",
       "      <th>Coefficient</th>\n",
       "    </tr>\n",
       "  </thead>\n",
       "  <tbody>\n",
       "    <tr>\n",
       "      <th>2</th>\n",
       "      <td>Discount</td>\n",
       "      <td>60.300807</td>\n",
       "    </tr>\n",
       "    <tr>\n",
       "      <th>3</th>\n",
       "      <td>Category_Office Supplies</td>\n",
       "      <td>32.203488</td>\n",
       "    </tr>\n",
       "    <tr>\n",
       "      <th>4</th>\n",
       "      <td>Category_Technology</td>\n",
       "      <td>22.928931</td>\n",
       "    </tr>\n",
       "    <tr>\n",
       "      <th>7</th>\n",
       "      <td>Region_West</td>\n",
       "      <td>-10.106742</td>\n",
       "    </tr>\n",
       "    <tr>\n",
       "      <th>5</th>\n",
       "      <td>Region_East</td>\n",
       "      <td>2.889644</td>\n",
       "    </tr>\n",
       "    <tr>\n",
       "      <th>6</th>\n",
       "      <td>Region_South</td>\n",
       "      <td>-2.439943</td>\n",
       "    </tr>\n",
       "    <tr>\n",
       "      <th>1</th>\n",
       "      <td>Quantity</td>\n",
       "      <td>-0.558693</td>\n",
       "    </tr>\n",
       "    <tr>\n",
       "      <th>0</th>\n",
       "      <td>Sales</td>\n",
       "      <td>0.272423</td>\n",
       "    </tr>\n",
       "  </tbody>\n",
       "</table>\n",
       "</div>"
      ],
      "text/plain": [
       "                   Variable  Coefficient\n",
       "2                  Discount    60.300807\n",
       "3  Category_Office Supplies    32.203488\n",
       "4       Category_Technology    22.928931\n",
       "7               Region_West   -10.106742\n",
       "5               Region_East     2.889644\n",
       "6              Region_South    -2.439943\n",
       "1                  Quantity    -0.558693\n",
       "0                     Sales     0.272423"
      ]
     },
     "execution_count": 29,
     "metadata": {},
     "output_type": "execute_result"
    }
   ],
   "source": [
    "# Coefficients du modèle\n",
    "coef_df = pd.DataFrame({\n",
    "    'Variable': X_train.columns,\n",
    "    'Coefficient': model.coef_\n",
    "}).sort_values(by='Coefficient', key=abs, ascending=False)\n",
    "\n",
    "# Affichage des variables les plus influentes\n",
    "coef_df\n"
   ]
  },
  {
   "cell_type": "markdown",
   "metadata": {
    "id": "WAfjsdq5wgaD"
   },
   "source": [
    "Interprétation\n",
    "\n",
    "Le discount a un impact positif significatif sur le profit.\n",
    "\n",
    "Les catégories \"Office Supplies\" et \"Technology\" contribuent également aux profits.\n",
    "\n",
    "Les régions ont des effets variés, avec la région Ouest ayant un impact négatif."
   ]
  },
  {
   "cell_type": "code",
   "execution_count": null,
   "metadata": {
    "id": "Gx-SYw6DqUw4"
   },
   "outputs": [],
   "source": []
  },
  {
   "cell_type": "markdown",
   "metadata": {
    "id": "XJH3MdpKyxvo"
   },
   "source": [
    "### 📝 Résultat & Recommandations – Synthèse (150 mots)\n",
    "\n",
    "L’analyse prédictive montre que le modèle explique 80 % de la variance des profits avec une erreur moyenne de 41,55 unités. Les variables influentes sont le **discount**, qui augmente significativement le profit, ainsi que les catégories **Office Supplies** et **Technology**, fortement rentables. En revanche, la région **Ouest** réduit la rentabilité, nécessitant une stratégie adaptée. La **quantité vendue** a un léger effet négatif sur le profit, soulignant l’importance d’une gestion précise des volumes.\n",
    "\n",
    "**Recommandations** :\n",
    "Optimiser les **politiques de discount** pour stimuler les ventes sans sacrifier la marge. Investir dans les **produits les plus rentables** et réajuster la stratégie en région **Ouest**. Enfin, affiner les **prévisions de ventes** pour éviter la surproduction et maximiser les marges."
   ]
  }
 ],
 "metadata": {
  "colab": {
   "private_outputs": true,
   "provenance": []
  },
  "kernelspec": {
   "display_name": "Python 3 (ipykernel)",
   "language": "python",
   "name": "python3"
  },
  "language_info": {
   "codemirror_mode": {
    "name": "ipython",
    "version": 3
   },
   "file_extension": ".py",
   "mimetype": "text/x-python",
   "name": "python",
   "nbconvert_exporter": "python",
   "pygments_lexer": "ipython3",
   "version": "3.12.7"
  }
 },
 "nbformat": 4,
 "nbformat_minor": 4
}
