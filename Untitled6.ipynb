{
  "nbformat": 4,
  "nbformat_minor": 0,
  "metadata": {
    "colab": {
      "private_outputs": true,
      "provenance": []
    },
    "kernelspec": {
      "name": "python3",
      "display_name": "Python 3"
    },
    "language_info": {
      "name": "python"
    }
  },
  "cells": [
    {
      "cell_type": "code",
      "execution_count": null,
      "metadata": {
        "id": "IvyYaqa5jz42"
      },
      "outputs": [],
      "source": [
        "# Importation des librairies\n",
        "import pandas as pd\n",
        "import seaborn as sns\n",
        "import matplotlib.pyplot as plt\n"
      ]
    },
    {
      "cell_type": "code",
      "source": [
        "df = pd.read_csv('/content/Sample - Superstore 1.csv', encoding='cp1252', sep=';')"
      ],
      "metadata": {
        "id": "UAynCh1rkEny"
      },
      "execution_count": null,
      "outputs": []
    },
    {
      "cell_type": "code",
      "source": [
        "df"
      ],
      "metadata": {
        "id": "xJFy1nGZlB9g"
      },
      "execution_count": null,
      "outputs": []
    },
    {
      "cell_type": "code",
      "source": [
        "# Affiche les premières lignes du dataset\n",
        "df.head()"
      ],
      "metadata": {
        "id": "ty86WuTLl5P2"
      },
      "execution_count": null,
      "outputs": []
    },
    {
      "cell_type": "code",
      "source": [
        "# Info générales sur les types de variables\n",
        "df.info()"
      ],
      "metadata": {
        "id": "m2iYop3tmDK1"
      },
      "execution_count": null,
      "outputs": []
    },
    {
      "cell_type": "code",
      "source": [
        "# Vérifie les valeurs manquantes\n",
        "df.isnull().sum()"
      ],
      "metadata": {
        "id": "9ZaEDooWmGzI"
      },
      "execution_count": null,
      "outputs": []
    },
    {
      "cell_type": "code",
      "source": [
        "# Suppression des lignes contenant des valeurs nulles\n",
        "df = df.dropna(subset=['Sales', 'Quantity', 'Discount', 'Profit'])"
      ],
      "metadata": {
        "id": "TzEeFZZNmNdR"
      },
      "execution_count": null,
      "outputs": []
    },
    {
      "cell_type": "code",
      "source": [
        "# Vérification post-nettoyage\n",
        "df.isnull().sum()"
      ],
      "metadata": {
        "id": "NVYgFRnimjf8"
      },
      "execution_count": null,
      "outputs": []
    },
    {
      "cell_type": "code",
      "source": [],
      "metadata": {
        "id": "qeFI8rAQmkX5"
      },
      "execution_count": null,
      "outputs": []
    },
    {
      "cell_type": "markdown",
      "source": [
        "**Analyse quanti-quanti (corrélations)**\n",
        "\n",
        "On va explorer les corrélations entre :\n",
        "\n",
        "Sales (ventes)\n",
        "\n",
        "Quantity (quantité)\n",
        "\n",
        "Profit (marge)"
      ],
      "metadata": {
        "id": "FNzVfK2hmv1P"
      }
    },
    {
      "cell_type": "code",
      "source": [
        "# Sélection des variables quantitatives\n",
        "quanti_vars = ['Sales', 'Quantity', 'Profit']"
      ],
      "metadata": {
        "id": "dQKGJQiwm1nt"
      },
      "execution_count": null,
      "outputs": []
    },
    {
      "cell_type": "code",
      "source": [
        "# Matrice de corrélation\n",
        "correlation_matrix = df[quanti_vars].corr()"
      ],
      "metadata": {
        "id": "UJxhmFHKm4uM"
      },
      "execution_count": null,
      "outputs": []
    },
    {
      "cell_type": "code",
      "source": [
        "# Affichage de la heatmap\n",
        "sns.heatmap(correlation_matrix, annot=True, cmap='coolwarm', fmt=\".2f\")\n",
        "plt.title('Corrélations entre variables quantitatives')\n",
        "plt.show()"
      ],
      "metadata": {
        "id": "ncOyu_w-m7Lr"
      },
      "execution_count": null,
      "outputs": []
    },
    {
      "cell_type": "markdown",
      "source": [
        "Les ventes ont une forte corrélation positive avec le profit (0.88), indiquant que maximiser les ventes augmente significativement la rentabilité. En revanche, la faible corrélation entre quantité et profit (0.13) suggère que vendre plus d'unités ne garantit pas de meilleures marges. Optimiser les ventes est crucial."
      ],
      "metadata": {
        "id": "vri_y4hksk9Y"
      }
    },
    {
      "cell_type": "markdown",
      "source": [
        "________________________________________________________________________________"
      ],
      "metadata": {
        "id": "DhXvoB_nsnbX"
      }
    },
    {
      "cell_type": "markdown",
      "source": [
        "**Analyse quali-quali (tableaux croisés)**\n",
        "\n",
        "Exemple : relation entre Region et Category"
      ],
      "metadata": {
        "id": "LVTqxwAanCVo"
      }
    },
    {
      "cell_type": "code",
      "source": [
        "# Tableau croisé des fréquences\n",
        "cross_tab = pd.crosstab(df['Region'], df['Category'])"
      ],
      "metadata": {
        "id": "RrMgsixKnGIN"
      },
      "execution_count": null,
      "outputs": []
    },
    {
      "cell_type": "code",
      "source": [
        "# Affichage du tableau\n",
        "cross_tab"
      ],
      "metadata": {
        "id": "feIZqTh9nIx2"
      },
      "execution_count": null,
      "outputs": []
    },
    {
      "cell_type": "markdown",
      "source": [
        "## Interprétation des Profits par Catégorie et Région\n",
        "\n",
        "- **Dominance des Meubles** : La région **West** génère le profit le plus élevé dans la catégorie **Furniture** (184), soulignant une forte demande.\n",
        "- **Forte Performance des Fournitures de Bureau** : La catégorie **Office Supplies** est également performante, notamment dans les régions **Central** (406) et **East** (457).\n",
        "- **Opportunités à Explorer** : Les catégories **Technology** et **South** montrent un potentiel de croissance, nécessitant des stratégies ciblées pour améliorer les ventes."
      ],
      "metadata": {
        "id": "KSBb4WmZsxRX"
      }
    },
    {
      "cell_type": "code",
      "source": [
        "# Heatmap pour visualiser\n",
        "sns.heatmap(cross_tab, annot=True, cmap='YlGnBu', fmt='d')\n",
        "plt.title('Fréquences: Région vs Catégorie')\n",
        "plt.show()"
      ],
      "metadata": {
        "id": "lYPt5iADnLao"
      },
      "execution_count": null,
      "outputs": []
    },
    {
      "cell_type": "markdown",
      "source": [
        "Central : Montre des profits variés avec 124 (Meubles), 406 (Fournitures de Bureau), et 117 (Technologie), suggérant une diversité de produits.\n",
        "\n",
        "South : Les profits sont les plus bas dans cette région, avec 92 (Meubles), 284 (Fournitures de Bureau), et 88 (Technologie), nécessitant des stratégies d'amélioration.\n",
        "\n",
        "West : En plus des Meubles, cette région maintient un bon niveau de performance dans les autres catégories, ce qui en fait un marché clé.\n",
        "\n",
        "**Conclusion**\n",
        "Les résultats indiquent que certaines régions et catégories sont plus rentables que d'autres. Il est crucial de concentrer les efforts de marketing et de vente sur les catégories performantes tout en explorant des stratégies pour améliorer les ventes dans les régions moins rentables."
      ],
      "metadata": {
        "id": "YnoZ9j_JthIT"
      }
    },
    {
      "cell_type": "markdown",
      "source": [
        "**Analyse quali-quanti (comparaison de moyennes)**\n",
        "\n",
        "Exemple : moyenne des profits selon les segments de clients"
      ],
      "metadata": {
        "id": "1-MqF8qMnUno"
      }
    },
    {
      "cell_type": "code",
      "source": [
        "# Moyenne de profit par segment\n",
        "mean_profit_segment = df.groupby('Segment')['Profit'].mean().reset_index()"
      ],
      "metadata": {
        "id": "YLvWaZ0BnXMN"
      },
      "execution_count": null,
      "outputs": []
    },
    {
      "cell_type": "code",
      "source": [
        "# Affichage\n",
        "mean_profit_segment"
      ],
      "metadata": {
        "id": "_fm3HUt0nayZ"
      },
      "execution_count": null,
      "outputs": []
    },
    {
      "cell_type": "code",
      "source": [
        "# Boxplot pour visualiser la dispersion\n",
        "sns.boxplot(x='Segment', y='Profit', data=df)\n",
        "plt.title('Profit par Segment')\n",
        "plt.show()"
      ],
      "metadata": {
        "id": "ZovByTRkneE-"
      },
      "execution_count": null,
      "outputs": []
    },
    {
      "cell_type": "markdown",
      "source": [
        "# Interprétation des Profits par Segment\n",
        "\n",
        "## Analyse des Profits\n",
        "- **Segments de Marché** : Les segments analysés incluent **Consumer**, **Corporate**, et **Home Office**.\n",
        "- **Tendances de Profit** :\n",
        "- Le segment **Consumer** montre une performance notable, atteignant des profits proches de 8000, ce qui indique une forte demande dans ce marché.\n",
        "- Le segment **Corporate** semble également performant, bien que les données spécifiques ne soient pas fournies, il est raisonnable de supposer qu'il suit une tendance similaire.\n",
        "- Le segment **Home Office** a des profits significativement plus bas, suggérant une opportunité d'amélioration ou un besoin d'adaptation des stratégies marketing pour capter ce marché.\n",
        "\n",
        "## Conclusion\n",
        "- Les résultats indiquent que le segment **Consumer** est le plus rentable, tandis que les autres segments, bien qu'importants, nécessitent des stratégies ciblées pour maximiser leur potentiel. L'accent devrait être mis sur l'augmentation des ventes dans le segment **Home Office** pour équilibrer les performances globales."
      ],
      "metadata": {
        "id": "wsX-B7BeuEtz"
      }
    },
    {
      "cell_type": "markdown",
      "source": [
        "**Visualisation avancée**\n",
        "\n",
        "Scatter plot : Ventes vs Profit, coloré par Région"
      ],
      "metadata": {
        "id": "t6Ba_UVcnmP5"
      }
    },
    {
      "cell_type": "code",
      "source": [
        "sns.scatterplot(x='Sales', y='Profit', hue='Region', data=df)\n",
        "plt.title('Sales vs Profit par Région')\n",
        "plt.show()"
      ],
      "metadata": {
        "id": "KjEvcZxGnn_4"
      },
      "execution_count": null,
      "outputs": []
    },
    {
      "cell_type": "markdown",
      "source": [
        "Voici une version plus courte de l'interprétation :\n",
        "\n",
        "# Interprétation des Ventes et Profits par Région\n",
        "\n",
        "## Analyse des Données\n",
        "- **Graphique** : Comparaison des ventes et profits pour les régions **South**, **West**, **Central**, et **East**.\n",
        "\n",
        "## Tendances Observées\n",
        "- **Région South** : Ventes et profits faibles, indiquant des défis ou une faible demande.\n",
        "- **Région West** : Ventes et profits élevés, suggérant une forte performance commerciale.\n",
        "- **Région Central** : Ventes modérées avec des profits raisonnables, indiquant une gestion efficace.\n",
        "- **Région East** : Ventes les plus élevées, mais à vérifier si les profits sont également satisfaisants.\n",
        "\n",
        "## Conclusion\n",
        "- Disparités significatives entre les régions. Une analyse approfondie est nécessaire pour optimiser les stratégies, en se concentrant sur l'amélioration des performances dans la région **South**."
      ],
      "metadata": {
        "id": "6XTtAQJDuiz0"
      }
    },
    {
      "cell_type": "code",
      "source": [
        "sns.boxplot(x='Category', y='Profit', data=df)\n",
        "plt.title('Profit par Catégorie')\n",
        "plt.show()"
      ],
      "metadata": {
        "id": "zIy85j2snqQy"
      },
      "execution_count": null,
      "outputs": []
    },
    {
      "cell_type": "markdown",
      "source": [
        "Voici une version plus courte de l'interprétation :\n",
        "\n",
        "# Interprétation des Profits par Catégorie\n",
        "\n",
        "## Analyse des Données\n",
        "- **Graphique** : Profits par catégorie : **Furniture**, **Office Supplies**, et **Technology**.\n",
        "\n",
        "## Tendances Observées\n",
        "- **Furniture** : Profits élevés, indiquant une forte demande.\n",
        "- **Office Supplies** : Profits modérés, suggérant une concurrence accrue.\n",
        "- **Technology** : Profits inférieurs à ceux de Furniture, possiblement dus à des coûts élevés ou à une demande variable.\n",
        "\n",
        "## Conclusion\n",
        "- Des différences significatives existent entre les catégories. Une analyse approfondie est nécessaire pour optimiser les stratégies, surtout dans la catégorie **Technology**."
      ],
      "metadata": {
        "id": "omIQlUpivDon"
      }
    },
    {
      "cell_type": "markdown",
      "source": [
        "***Analyse croisée multi-dimensionnelle***\n",
        "\n",
        "**Objectif** :   \n",
        "Croiser plusieurs variables pour trouver des insights plus fins et segmenter la performance commerciale."
      ],
      "metadata": {
        "id": "a2e1mC23oQ7E"
      }
    },
    {
      "cell_type": "markdown",
      "source": [
        "**Profit moyen par Région et** **Catégorie**"
      ],
      "metadata": {
        "id": "jfht4m87oiW2"
      }
    },
    {
      "cell_type": "code",
      "source": [
        "# Groupement par Région et Catégorie\n",
        "profit_region_category = df.groupby(['Region', 'Category'])['Profit'].mean().reset_index()"
      ],
      "metadata": {
        "id": "joI-W9ojoT7h"
      },
      "execution_count": null,
      "outputs": []
    },
    {
      "cell_type": "code",
      "source": [
        "# Affichage\n",
        "profit_region_category"
      ],
      "metadata": {
        "id": "iU1nQPTCooLA"
      },
      "execution_count": null,
      "outputs": []
    },
    {
      "cell_type": "code",
      "source": [
        "# Visualisation en heatmap pivotée\n",
        "pivot_profit = profit_region_category.pivot(index='Region', columns='Category', values='Profit')\n",
        "\n",
        "# Affichage en heatmap\n",
        "sns.heatmap(pivot_profit, annot=True, cmap='RdYlGn', fmt=\".2f\")\n",
        "plt.title('Profit moyen par Région et Catégorie')\n",
        "plt.show()\n"
      ],
      "metadata": {
        "id": "1L18TuBWoqcg"
      },
      "execution_count": null,
      "outputs": []
    },
    {
      "cell_type": "markdown",
      "source": [
        "# Interprétation des Profits Moyens par Région et Catégorie\n",
        "\n",
        "Ce graphique présente les profits moyens par région (Central, East, South, West) et par catégorie (Furniture, Office Supplies, Technology).\n",
        "\n",
        "- **Central** : Meilleure performance avec des profits élevés, notamment en Furniture.\n",
        "- **East** : Profits variés, mais une bonne performance en Technology.\n",
        "- **South** : Profits modérés, surtout en Furniture.\n",
        "- **West** : Profits les plus bas, nécessitant une attention particulière.\n",
        "\n",
        "Les différences soulignent la nécessité d'adapter les stratégies selon les régions et les catégories pour maximiser les profits."
      ],
      "metadata": {
        "id": "4mHJyIq7vT6c"
      }
    },
    {
      "cell_type": "code",
      "source": [
        "# Somme du profit par produit\n",
        "product_profit = df.groupby('Product Name')['Profit'].sum().reset_index()\n",
        "\n",
        "# Tri décroissant\n",
        "top_products = product_profit.sort_values(by='Profit', ascending=False).head(10)\n",
        "\n",
        "# Affichage\n",
        "top_products"
      ],
      "metadata": {
        "id": "z_tnVGlHovXc"
      },
      "execution_count": null,
      "outputs": []
    },
    {
      "cell_type": "code",
      "source": [
        "# Barplot\n",
        "sns.barplot(x='Profit', y='Product Name', data=top_products, palette='viridis')\n",
        "plt.title('Top 10 Produits par Profit')\n",
        "plt.show()"
      ],
      "metadata": {
        "id": "-US69-HApHxh"
      },
      "execution_count": null,
      "outputs": []
    },
    {
      "cell_type": "markdown",
      "source": [
        "# Top 10 Produits par Profit\n",
        "\n",
        "Ce graphique présente les dix produits les plus rentables. Parmi ceux-ci, on trouve des équipements variés tels que le **Canon imageCLASS 2200** et le **Cubify CubeX 3D Printer**, avec des profits atteignant jusqu'à 8000.\n",
        "\n",
        "Les produits de bureau, comme le **GBC DocuBind P400** et le **Hewlett Packard Laserjet 3310**, montrent également des performances solides.\n",
        "\n",
        "Cette analyse souligne l'importance de ces produits pour la rentabilité globale, indiquant des opportunités pour maximiser les ventes dans ces catégories."
      ],
      "metadata": {
        "id": "_BL25aXGvi1X"
      }
    },
    {
      "cell_type": "markdown",
      "source": [
        "** Analyse du discount sur la rentabilité**\n",
        "\n",
        "Hypothèse : Trop de discount = baisse du profit."
      ],
      "metadata": {
        "id": "pswQ6wV9pW_G"
      }
    },
    {
      "cell_type": "code",
      "source": [
        "# Scatter plot Discount vs Profit\n",
        "sns.scatterplot(x='Discount', y='Profit', data=df)\n",
        "plt.title('Impact du Discount sur le Profit')\n",
        "plt.show()\n",
        "\n",
        "# Corrélation discount/profit\n",
        "discount_corr = df[['Discount', 'Profit']].corr()\n",
        "discount_corr\n"
      ],
      "metadata": {
        "id": "_sIMArEHpY1q"
      },
      "execution_count": null,
      "outputs": []
    },
    {
      "cell_type": "markdown",
      "source": [
        "# Impact du Discount sur le Profit\n",
        "\n",
        "Ce graphique illustre la relation entre le taux de réduction et le profit généré. À mesure que le discount augmente, le profit diminue, indiquant une tendance négative.\n",
        "\n",
        "Les profits passent de 8000 à 0 en fonction de l'augmentation du discount, suggérant que des réductions excessives peuvent nuire à la rentabilité.\n",
        "\n",
        "Il est essentiel de trouver un équilibre entre offrir des réductions attractives et maintenir des marges bénéficiaires saines pour optimiser les résultats financiers."
      ],
      "metadata": {
        "id": "gYgo2H-wv_7o"
      }
    },
    {
      "cell_type": "markdown",
      "source": [
        "**Détection de pertes** : Produits/régions non rentables"
      ],
      "metadata": {
        "id": "a_YhyN3hpqL3"
      }
    },
    {
      "cell_type": "code",
      "source": [
        "# Filtrer les ventes avec profit négatif\n",
        "losses = df[df['Profit'] < 0]\n",
        "\n",
        "# Regrouper par région et produit\n",
        "losses_grouped = losses.groupby(['Region', 'Product Name'])['Profit'].sum().reset_index()\n",
        "\n",
        "# Tri des pertes les plus importantes\n",
        "top_losses = losses_grouped.sort_values(by='Profit').head(10)\n",
        "\n",
        "# Affichage\n",
        "top_losses\n",
        "\n",
        "# Visualisation\n",
        "sns.barplot(x='Profit', y='Product Name', data=top_losses, palette='Reds_r')\n",
        "plt.title('Top 10 Produits les Moins Rentables par Région')\n",
        "plt.show()\n"
      ],
      "metadata": {
        "id": "UERErlySplJ6"
      },
      "execution_count": null,
      "outputs": []
    },
    {
      "cell_type": "code",
      "source": [],
      "metadata": {
        "id": "SkFA-Ad1pweS"
      },
      "execution_count": null,
      "outputs": []
    },
    {
      "cell_type": "markdown",
      "source": [
        "Modélisation prédictive pour anticiper le profit\n",
        "\n",
        "**Objectif **:\n",
        "\n",
        "Prédire le Profit à partir de variables comme :\n",
        "\n",
        "Sales\n",
        "\n",
        "Quantity\n",
        "\n",
        "Discount\n",
        "\n",
        "Category, Region, etc. (quali → à encoder)\n"
      ],
      "metadata": {
        "id": "xwNEHLR-qChu"
      }
    },
    {
      "cell_type": "code",
      "source": [
        "from sklearn.model_selection import train_test_split\n",
        "from sklearn.linear_model import LinearRegression\n",
        "from sklearn.metrics import mean_absolute_error, r2_score\n",
        "from sklearn.preprocessing import OneHotEncoder\n",
        "\n",
        "# Sélection des variables utiles\n",
        "features = df[['Sales', 'Quantity', 'Discount', 'Category', 'Region']]\n",
        "target = df['Profit']\n",
        "\n",
        "# Encodage des variables qualitatives\n",
        "features_encoded = pd.get_dummies(features, columns=['Category', 'Region'], drop_first=True)\n",
        "\n",
        "# Split en train/test\n",
        "X_train, X_test, y_train, y_test = train_test_split(features_encoded, target, test_size=0.2, random_state=42)\n"
      ],
      "metadata": {
        "id": "xskRPmxiqErF"
      },
      "execution_count": null,
      "outputs": []
    },
    {
      "cell_type": "code",
      "source": [
        "# Modèle\n",
        "model = LinearRegression()\n",
        "model.fit(X_train, y_train)\n",
        "\n",
        "# Prédictions\n",
        "y_pred = model.predict(X_test)\n",
        "\n",
        "# Évaluation du modèle\n",
        "mae = mean_absolute_error(y_test, y_pred)\n",
        "r2 = r2_score(y_test, y_pred)\n",
        "\n",
        "# Résultats d’évaluation\n",
        "df_results = pd.DataFrame({'MAE': [mae], 'R2_Score': [r2]})\n",
        "df_results\n"
      ],
      "metadata": {
        "id": "uacWS-6gqNmZ"
      },
      "execution_count": null,
      "outputs": []
    },
    {
      "cell_type": "code",
      "source": [
        "# Coefficients du modèle\n",
        "coef_df = pd.DataFrame({\n",
        "    'Variable': X_train.columns,\n",
        "    'Coefficient': model.coef_\n",
        "}).sort_values(by='Coefficient', key=abs, ascending=False)\n",
        "\n",
        "# Affichage des variables les plus influentes\n",
        "coef_df\n"
      ],
      "metadata": {
        "id": "WxVmWZBUqQn0"
      },
      "execution_count": null,
      "outputs": []
    },
    {
      "cell_type": "markdown",
      "source": [
        "Interprétation\n",
        "\n",
        "Le discount a un impact positif significatif sur le profit.\n",
        "\n",
        "Les catégories \"Office Supplies\" et \"Technology\" contribuent également aux profits.\n",
        "\n",
        "Les régions ont des effets variés, avec la région Ouest ayant un impact négatif."
      ],
      "metadata": {
        "id": "WAfjsdq5wgaD"
      }
    },
    {
      "cell_type": "code",
      "source": [],
      "metadata": {
        "id": "Gx-SYw6DqUw4"
      },
      "execution_count": null,
      "outputs": []
    },
    {
      "cell_type": "markdown",
      "source": [
        "### 📝 Résultat & Recommandations – Synthèse (150 mots)\n",
        "\n",
        "L’analyse prédictive montre que le modèle explique 80 % de la variance des profits avec une erreur moyenne de 41,55 unités. Les variables influentes sont le **discount**, qui augmente significativement le profit, ainsi que les catégories **Office Supplies** et **Technology**, fortement rentables. En revanche, la région **Ouest** réduit la rentabilité, nécessitant une stratégie adaptée. La **quantité vendue** a un léger effet négatif sur le profit, soulignant l’importance d’une gestion précise des volumes.\n",
        "\n",
        "**Recommandations** :\n",
        "Optimiser les **politiques de discount** pour stimuler les ventes sans sacrifier la marge. Investir dans les **produits les plus rentables** et réajuster la stratégie en région **Ouest**. Enfin, affiner les **prévisions de ventes** pour éviter la surproduction et maximiser les marges."
      ],
      "metadata": {
        "id": "XJH3MdpKyxvo"
      }
    },
    {
      "cell_type": "code",
      "source": [],
      "metadata": {
        "id": "syLOTVp1yy0Q"
      },
      "execution_count": null,
      "outputs": []
    }
  ]
}